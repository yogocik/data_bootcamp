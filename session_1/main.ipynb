{
 "cells": [
  {
   "cell_type": "code",
   "execution_count": 4,
   "metadata": {},
   "outputs": [
    {
     "name": "stdout",
     "output_type": "stream",
     "text": [
      "Element -> 1\n"
     ]
    }
   ],
   "source": [
    "a = [1,2,3,4,5]\n",
    "for i in a:\n",
    "    print(f'Element -> {i}')\n",
    "    break"
   ]
  },
  {
   "cell_type": "code",
   "execution_count": 3,
   "metadata": {},
   "outputs": [
    {
     "name": "stdout",
     "output_type": "stream",
     "text": [
      "My number -> 0\n"
     ]
    }
   ],
   "source": [
    "my_number = 0\n",
    "while my_number <= 5:\n",
    "    print(f'My number -> {my_number}')\n",
    "    my_number+=1\n",
    "    break"
   ]
  },
  {
   "cell_type": "code",
   "execution_count": 4,
   "metadata": {},
   "outputs": [
    {
     "name": "stdout",
     "output_type": "stream",
     "text": [
      "My number is less than or equal 30\n"
     ]
    }
   ],
   "source": [
    "my_number = 30\n",
    "if my_number > 50:\n",
    "    print(\"My number is more than 50\")\n",
    "elif my_number > 30:\n",
    "    print(\"My number is more than 30\")\n",
    "else:\n",
    "    print(\"My number is less than or equal 30\")"
   ]
  },
  {
   "cell_type": "code",
   "execution_count": 5,
   "metadata": {},
   "outputs": [
    {
     "ename": "ZeroDivisionError",
     "evalue": "division by zero",
     "output_type": "error",
     "traceback": [
      "\u001b[0;31m---------------------------------------------------------------------------\u001b[0m",
      "\u001b[0;31mZeroDivisionError\u001b[0m                         Traceback (most recent call last)",
      "\u001b[1;32m/Users/yogicrhamadianto/Documents/bootcamp/session_1/main.ipynb Cell 4\u001b[0m line \u001b[0;36m3\n\u001b[1;32m      <a href='vscode-notebook-cell:/Users/yogicrhamadianto/Documents/bootcamp/session_1/main.ipynb#W3sZmlsZQ%3D%3D?line=0'>1</a>\u001b[0m my_number \u001b[39m=\u001b[39m \u001b[39m30\u001b[39m\n\u001b[1;32m      <a href='vscode-notebook-cell:/Users/yogicrhamadianto/Documents/bootcamp/session_1/main.ipynb#W3sZmlsZQ%3D%3D?line=1'>2</a>\u001b[0m my_number_2 \u001b[39m=\u001b[39m \u001b[39m0\u001b[39m\n\u001b[0;32m----> <a href='vscode-notebook-cell:/Users/yogicrhamadianto/Documents/bootcamp/session_1/main.ipynb#W3sZmlsZQ%3D%3D?line=2'>3</a>\u001b[0m my_result \u001b[39m=\u001b[39m my_number\u001b[39m/\u001b[39;49mmy_number_2\n",
      "\u001b[0;31mZeroDivisionError\u001b[0m: division by zero"
     ]
    }
   ],
   "source": [
    "my_number = 30\n",
    "my_number_2 = 0\n",
    "my_result = my_number/my_number_2"
   ]
  },
  {
   "cell_type": "code",
   "execution_count": 2,
   "metadata": {},
   "outputs": [
    {
     "name": "stdout",
     "output_type": "stream",
     "text": [
      "Illegal operation (ZeroDivisionError Block) -> division by zero\n"
     ]
    }
   ],
   "source": [
    "my_number = 30\n",
    "my_number_2 = 0\n",
    "try:\n",
    "    my_result = my_number/my_number_2\n",
    "except ZeroDivisionError as e:\n",
    "    print(f\"Illegal operation (ZeroDivisionError Block) -> {e}\")    \n",
    "except Exception as e:\n",
    "    print(f\"Illegal operation -> {e}\")"
   ]
  },
  {
   "cell_type": "code",
   "execution_count": 9,
   "metadata": {},
   "outputs": [
    {
     "name": "stdout",
     "output_type": "stream",
     "text": [
      "Don't Know\n"
     ]
    }
   ],
   "source": [
    "my_status = 'PUSING'\n",
    "match my_status:\n",
    "    case 'BUSY':\n",
    "        print(\"Please dont disturb me\")\n",
    "    case 'GABUT':\n",
    "        print(\"Please play with me\")\n",
    "    case _:\n",
    "        print(\"Don't Know\")"
   ]
  }
 ],
 "metadata": {
  "kernelspec": {
   "display_name": "Python 3",
   "language": "python",
   "name": "python3"
  },
  "language_info": {
   "codemirror_mode": {
    "name": "ipython",
    "version": 3
   },
   "file_extension": ".py",
   "mimetype": "text/x-python",
   "name": "python",
   "nbconvert_exporter": "python",
   "pygments_lexer": "ipython3",
   "version": "3.11.6"
  }
 },
 "nbformat": 4,
 "nbformat_minor": 2
}
