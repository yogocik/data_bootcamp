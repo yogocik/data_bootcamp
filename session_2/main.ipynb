{
 "cells": [
  {
   "cell_type": "code",
   "execution_count": 11,
   "metadata": {},
   "outputs": [],
   "source": [
    "class People:\n",
    "    \n",
    "    RACE = 'HUMAN'\n",
    "    CLASS = 'MAMALIA'\n",
    "    \n",
    "    def __init__(self,name:str):\n",
    "        self.name = name\n",
    "        self._level = 'reguler' # Encapsulation\n",
    "        \n",
    "    def greet(self):\n",
    "        print(f\"Hello my name is {self.name}\")\n",
    "    \n",
    "    def set_level(self,level:str):\n",
    "        self._level = level\n",
    "    \n",
    "    def get_level(self):\n",
    "        print(f\"{self.name}'s path is {self._level}\")\n",
    "    \n",
    "    def is_adult(age:int) -> bool:\n",
    "        return age > 20\n",
    "    \n",
    "    @classmethod\n",
    "    def set_race(cls,race:str): # Abstraction\n",
    "        print(\"Previous race : \", cls.RACE)\n",
    "        cls.RACE = race\n",
    "        print(\"After race : \", cls.RACE)"
   ]
  },
  {
   "cell_type": "code",
   "execution_count": 9,
   "metadata": {},
   "outputs": [],
   "source": [
    "people_1 = People(name='Amir')\n",
    "people_2 = People(name='Sinta')"
   ]
  },
  {
   "cell_type": "code",
   "execution_count": 12,
   "metadata": {},
   "outputs": [
    {
     "data": {
      "text/plain": [
       "('Amir', 'reguler')"
      ]
     },
     "execution_count": 12,
     "metadata": {},
     "output_type": "execute_result"
    }
   ],
   "source": [
    "people_1.name, people_1._level"
   ]
  },
  {
   "cell_type": "code",
   "execution_count": 10,
   "metadata": {},
   "outputs": [
    {
     "name": "stdout",
     "output_type": "stream",
     "text": [
      "Hello my name is Amir\n",
      "Hello my name is Sinta\n"
     ]
    }
   ],
   "source": [
    "people_1.greet()\n",
    "people_2.greet()"
   ]
  },
  {
   "cell_type": "code",
   "execution_count": 6,
   "metadata": {},
   "outputs": [
    {
     "name": "stdout",
     "output_type": "stream",
     "text": [
      "Previous race :  ZOMBIE\n",
      "After race :  TERMINATOR\n"
     ]
    }
   ],
   "source": [
    "people_1.set_race(race=\"TERMINATOR\")"
   ]
  },
  {
   "cell_type": "code",
   "execution_count": 8,
   "metadata": {},
   "outputs": [
    {
     "data": {
      "text/plain": [
       "True"
      ]
     },
     "execution_count": 8,
     "metadata": {},
     "output_type": "execute_result"
    }
   ],
   "source": []
  },
  {
   "cell_type": "code",
   "execution_count": 7,
   "metadata": {},
   "outputs": [
    {
     "data": {
      "text/plain": [
       "'TERMINATOR'"
      ]
     },
     "execution_count": 7,
     "metadata": {},
     "output_type": "execute_result"
    }
   ],
   "source": [
    "People.RACE"
   ]
  },
  {
   "cell_type": "code",
   "execution_count": 13,
   "metadata": {},
   "outputs": [],
   "source": [
    "class Student(People): # Inheritances\n",
    "    def __init__(self, \n",
    "                 name:str, \n",
    "                 school_name:str):\n",
    "        super().__init__(name) # Parent class initialization\n",
    "        self.school_name = school_name\n",
    "        \n",
    "    def greet(self): # Polimorphism (change existing component)\n",
    "        print(f\"Hello I am {self.name}, students from {self.school_name}\")\n",
    "\n",
    "    def people_greet(self): # Call parent class methods\n",
    "        super().greet()"
   ]
  },
  {
   "cell_type": "code",
   "execution_count": 14,
   "metadata": {},
   "outputs": [],
   "source": [
    "student_1 = Student(name=\"Hasan\", school_name=\"XYZ Boarding School\")"
   ]
  },
  {
   "cell_type": "code",
   "execution_count": 15,
   "metadata": {},
   "outputs": [
    {
     "name": "stdout",
     "output_type": "stream",
     "text": [
      "Hello I am Hasan, students from XYZ Boarding School\n"
     ]
    }
   ],
   "source": [
    "student_1.greet()"
   ]
  },
  {
   "cell_type": "code",
   "execution_count": 16,
   "metadata": {},
   "outputs": [
    {
     "name": "stdout",
     "output_type": "stream",
     "text": [
      "Hello my name is Hasan\n"
     ]
    }
   ],
   "source": [
    "student_1.people_greet()"
   ]
  },
  {
   "cell_type": "code",
   "execution_count": null,
   "metadata": {},
   "outputs": [],
   "source": []
  }
 ],
 "metadata": {
  "kernelspec": {
   "display_name": "Python 3",
   "language": "python",
   "name": "python3"
  },
  "language_info": {
   "codemirror_mode": {
    "name": "ipython",
    "version": 3
   },
   "file_extension": ".py",
   "mimetype": "text/x-python",
   "name": "python",
   "nbconvert_exporter": "python",
   "pygments_lexer": "ipython3",
   "version": "3.11.6"
  }
 },
 "nbformat": 4,
 "nbformat_minor": 2
}
