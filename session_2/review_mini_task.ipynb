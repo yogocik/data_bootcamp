{
 "cells": [
  {
   "cell_type": "code",
   "execution_count": null,
   "metadata": {},
   "outputs": [],
   "source": [
    "# Data structure of students information\n",
    "studentDb = {\n",
    "    \"01\": {\n",
    "        \"name\": \"Amin\",\n",
    "        \"age\": 15,\n",
    "        \"hobi\": [\"Memancing\",\"Berkuda\"],\n",
    "        \"ranking\": 1,\n",
    "    },\n",
    "    \"02\": {\n",
    "        \"name\": \"Budi\",\n",
    "        \"age\": 18,\n",
    "        \"ranking\": 2,\n",
    "        \"hobi\": [\"Bermain bola\",\"Ngejar layangan\"]\n",
    "    }\n",
    "}"
   ]
  }
 ],
 "metadata": {
  "language_info": {
   "name": "python"
  }
 },
 "nbformat": 4,
 "nbformat_minor": 2
}
